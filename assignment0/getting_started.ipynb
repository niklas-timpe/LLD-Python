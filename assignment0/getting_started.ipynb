{
 "cells": [
  {
   "cell_type": "markdown",
   "metadata": {
    "deletable": false,
    "editable": false,
    "nbgrader": {
     "cell_type": "markdown",
     "checksum": "1882fd858837149569004aabac29c832",
     "grade": false,
     "grade_id": "cell-6ec5aa4507a8f918",
     "locked": true,
     "schema_version": 3,
     "solution": false
    }
   },
   "source": [
    "<center>\n",
    "\n",
    "# Logic, Learning, and Decision\n",
    "\n",
    "## Home Assignment 0\n",
    "\n",
    "### Getting Started with Python for LLD\n",
    "\n",
    "- - -"
   ]
  },
  {
   "cell_type": "markdown",
   "metadata": {
    "deletable": false,
    "editable": false,
    "nbgrader": {
     "cell_type": "markdown",
     "checksum": "9044e8ed54f35b281153222df606e1db",
     "grade": false,
     "grade_id": "cell-d299ce342e54a4d8",
     "locked": true,
     "schema_version": 3,
     "solution": false
    }
   },
   "source": [
    "# Introduction\n",
    "\n",
    "This home assignment serves as a brief introduction to the [Python](https://www.python.org) programming language, and as a gentle start into the assignments in this course. It does not attempt to be a complete presentation of all of Python's features, but rather a selection of necessary ones to complete all home assignments in this course. For a more complete introduction, we refer to other resources below. If you are already a confident Python programmer, please work through this notebook carefully anyway, since it introduces data structures and functions specific to the forthcoming assignments.  \n",
    "\n",
    "This home assignment is performed in *two member groups*. Write all your answers into this notebook and **submit only this notebook (.ipynb) containing your team's own original work on Canvas.**"
   ]
  },
  {
   "cell_type": "markdown",
   "metadata": {
    "deletable": false,
    "editable": false,
    "nbgrader": {
     "cell_type": "markdown",
     "checksum": "4222f1fcead071ba2ef8ec8f4b77b481",
     "grade": false,
     "grade_id": "cell-8dfe6514b5b0e564",
     "locked": true,
     "schema_version": 3,
     "solution": false
    }
   },
   "source": [
    "## Comments and Recommendations\n",
    " \n",
    "* This assignment is written for Python 3.5 or later! Executing it with Python version 2.7 won't work.\n",
    "* If you get stuck with Python or Jupyter, try to google it! E.g. your search query could be *\"python --INSERT ERROR HERE--\"*. Chances are high, heaps of people had the same problem before you.\n",
    "* To show line numbers in a cell, go to *View* and click on *Show/Toggle Line Numbers*."
   ]
  },
  {
   "cell_type": "markdown",
   "metadata": {
    "deletable": false,
    "editable": false,
    "nbgrader": {
     "cell_type": "markdown",
     "checksum": "c1ff1490f5f6ed2f4bc2f7a407965184",
     "grade": false,
     "grade_id": "cell-14d9e8d5cc01d1b4",
     "locked": true,
     "schema_version": 3,
     "solution": false
    }
   },
   "source": [
    "- - -"
   ]
  },
  {
   "cell_type": "markdown",
   "metadata": {
    "deletable": false,
    "editable": false,
    "nbgrader": {
     "cell_type": "markdown",
     "checksum": "836018a26ca332f316de8b743d871236",
     "grade": false,
     "grade_id": "cell-ca1fc4d020961744",
     "locked": true,
     "schema_version": 3,
     "solution": false
    }
   },
   "source": [
    "# Python Preliminaries\n",
    "\n",
    "## Variables and Data Structures\n",
    "\n",
    "Variables are fundamental to all programming languages. In Python, variables are references to data structures (or locations in your computer's memory if you want so). Their creation and the assignment of a data structure happens at once. For instance:  "
   ]
  },
  {
   "cell_type": "code",
   "execution_count": 1,
   "metadata": {
    "deletable": false,
    "editable": false,
    "nbgrader": {
     "cell_type": "code",
     "checksum": "7ab57701fdbd2b3a1f793878298fb3fd",
     "grade": false,
     "grade_id": "cell-fde29860435dc298",
     "locked": true,
     "schema_version": 3,
     "solution": false
    }
   },
   "outputs": [],
   "source": [
    "a = 1  # Creates a variable with name 'a' and assigns data structure of type int with value '1'"
   ]
  },
  {
   "cell_type": "markdown",
   "metadata": {
    "deletable": false,
    "editable": false,
    "nbgrader": {
     "cell_type": "markdown",
     "checksum": "a3519496a278994897c6b9769888e54e",
     "grade": false,
     "grade_id": "cell-55c7ac5c3caead7f",
     "locked": true,
     "schema_version": 3,
     "solution": false
    }
   },
   "source": [
    "Data structures are objects that contain values and provide methods for accessing and manipulating those values. Each object is of a certain type that defines which methods are available to the programmer.\n",
    "\n",
    "The Python language consists of a small set of built-in **base types**:"
   ]
  },
  {
   "cell_type": "code",
   "execution_count": 2,
   "metadata": {},
   "outputs": [],
   "source": [
    "boolean = True\n",
    "integer_number = 1\n",
    "floating_point_number = 1.0\n",
    "complex_number = 1 + 1j\n",
    "string = 'a'"
   ]
  },
  {
   "cell_type": "markdown",
   "metadata": {
    "deletable": false,
    "editable": false,
    "nbgrader": {
     "cell_type": "markdown",
     "checksum": "4c7aef9014f4bf7db115f1ce59f14c45",
     "grade": false,
     "grade_id": "cell-80878e79b3cc88f5",
     "locked": true,
     "schema_version": 3,
     "solution": false
    }
   },
   "source": [
    "And also a small set of built-in **collection types**:"
   ]
  },
  {
   "cell_type": "code",
   "execution_count": 3,
   "metadata": {},
   "outputs": [],
   "source": [
    "a_list = [1, 2, 3]\n",
    "a_tuple = (1, 2, 3)\n",
    "a_set = {1, 2, 3}\n",
    "a_dictionary = {'a': 1, 'b': 2, 'c': 3}"
   ]
  },
  {
   "cell_type": "markdown",
   "metadata": {
    "deletable": false,
    "editable": false,
    "nbgrader": {
     "cell_type": "markdown",
     "checksum": "b341be34f51ed44aed6cf121979b1cc8",
     "grade": false,
     "grade_id": "cell-bfc59aa9f3d92533",
     "locked": true,
     "schema_version": 3,
     "solution": false
    }
   },
   "source": [
    "All of those types come with a number of [shared and unique functionalities](https://docs.python.org/3/library/stdtypes.html), and are thus suitable for different purposes. In this course, we will mainly work with [sets](https://docs.python.org/3/library/stdtypes.html#set).\n",
    "\n",
    "However, the fact that every data structure in Python is an object and a variable just a reference to it, is often a source of hard-to-spot bugs:"
   ]
  },
  {
   "cell_type": "code",
   "execution_count": 4,
   "metadata": {},
   "outputs": [
    {
     "name": "stdout",
     "output_type": "stream",
     "text": [
      "set A: {1, 2, 3} set B: {1, 2, 3}\n",
      "set A: {1, 2, 3, 4} set B: {1, 2, 3, 4}\n"
     ]
    }
   ],
   "source": [
    "set_a = {1, 2, 3}\n",
    "set_b = set_a \n",
    "print('set A:', set_a, 'set B:', set_b)\n",
    "set_b.add(4)\n",
    "print('set A:', set_a, 'set B:', set_b)"
   ]
  },
  {
   "cell_type": "markdown",
   "metadata": {
    "deletable": false,
    "editable": false,
    "nbgrader": {
     "cell_type": "markdown",
     "checksum": "b8f2e44cd219829391303f9ecffe59fa",
     "grade": false,
     "grade_id": "cell-a82f51763dd11917",
     "locked": true,
     "schema_version": 3,
     "solution": false
    }
   },
   "source": [
    "In this example, both variables refer to the same object (data structure). Assigning `set_a` to the new variable `set_b` did not have the desired effect of copying the set, meaning when manipulating `set_b`, we also manipulate `set_a` (because they are the same).\n",
    "\n",
    "**Immutable types** (that are the base types - bool, int, float, complex, str - and tuples) are the only types for which this problem does not occur:"
   ]
  },
  {
   "cell_type": "code",
   "execution_count": 5,
   "metadata": {},
   "outputs": [
    {
     "name": "stdout",
     "output_type": "stream",
     "text": [
      "a: 1 b: 1\n",
      "a: 1 b: 2\n"
     ]
    }
   ],
   "source": [
    "a = 1\n",
    "b = a \n",
    "print('a:', a, 'b:', b)\n",
    "b += 1\n",
    "print('a:', a, 'b:', b)"
   ]
  },
  {
   "cell_type": "markdown",
   "metadata": {
    "deletable": false,
    "editable": false,
    "nbgrader": {
     "cell_type": "markdown",
     "checksum": "af18412cb5e9bc250df619dc17468f77",
     "grade": false,
     "grade_id": "cell-2723210dea7b8d8b",
     "locked": true,
     "schema_version": 3,
     "solution": false
    }
   },
   "source": [
    "This is especially important to keep in mind when comparing variables in `if` or `while` statements.  "
   ]
  },
  {
   "cell_type": "markdown",
   "metadata": {
    "deletable": false,
    "editable": false,
    "nbgrader": {
     "cell_type": "markdown",
     "checksum": "f6c86990cafd9cbf7ccafd9db34ac3c8",
     "grade": false,
     "grade_id": "cell-9c54a6989a049bdd",
     "locked": true,
     "schema_version": 3,
     "solution": false
    }
   },
   "source": [
    "## Program Control Flow\n",
    "\n",
    "The Python language provides a number of keywords to define the control flow of a program. For example, a conditional statement could be:  "
   ]
  },
  {
   "cell_type": "code",
   "execution_count": 6,
   "metadata": {},
   "outputs": [
    {
     "name": "stdout",
     "output_type": "stream",
     "text": [
      "a is between 3 and 4\n"
     ]
    }
   ],
   "source": [
    "a = 3.14\n",
    "\n",
    "if a <= 3:\n",
    "    print('a is less or equal to 3')\n",
    "elif a > 4:\n",
    "    print('a is greater than 4')\n",
    "else:\n",
    "    print('a is between 3 and 4')"
   ]
  },
  {
   "cell_type": "markdown",
   "metadata": {
    "deletable": false,
    "editable": false,
    "nbgrader": {
     "cell_type": "markdown",
     "checksum": "b55a59085756207c8186e2d4dca373e8",
     "grade": false,
     "grade_id": "cell-6f17279fee74e793",
     "locked": true,
     "schema_version": 3,
     "solution": false
    }
   },
   "source": [
    "You may have noticed that Python does not use any curly braces `{}` or semicolons `;` to delimit control flow blocks. Instead, it uses indentation through whitespaces to group lines of code to a control block. To emphasize that:"
   ]
  },
  {
   "cell_type": "code",
   "execution_count": 7,
   "metadata": {},
   "outputs": [
    {
     "name": "stdout",
     "output_type": "stream",
     "text": [
      "This line will always get executed irregardless if a > 4 or not, because it is not indented\n"
     ]
    }
   ],
   "source": [
    "if a > 4:\n",
    "    print('This line is indented by 4 whitespaces (or a tab) and thus only gets executed if a > 4')\n",
    "print('This line will always get executed irregardless if a > 4 or not, because it is not indented')"
   ]
  },
  {
   "cell_type": "markdown",
   "metadata": {
    "deletable": false,
    "editable": false,
    "nbgrader": {
     "cell_type": "markdown",
     "checksum": "4ea6e7f37ae9fe3f0c5af28897a11e5e",
     "grade": false,
     "grade_id": "cell-dbadcf787a89d995",
     "locked": true,
     "schema_version": 3,
     "solution": false
    }
   },
   "source": [
    "Looping in Python can take the form of `for` and `while` loops. For instance a loop that adds all integers from 0 to 10 could be:"
   ]
  },
  {
   "cell_type": "code",
   "execution_count": 8,
   "metadata": {},
   "outputs": [
    {
     "name": "stdout",
     "output_type": "stream",
     "text": [
      "55\n"
     ]
    }
   ],
   "source": [
    "total = 0\n",
    "for i in range(0, 11):\n",
    "    total += i\n",
    "\n",
    "print(total)"
   ]
  },
  {
   "cell_type": "markdown",
   "metadata": {
    "deletable": false,
    "editable": false,
    "nbgrader": {
     "cell_type": "markdown",
     "checksum": "7aa1b2b13999a2d5f8f0101ba47ebaa1",
     "grade": false,
     "grade_id": "cell-ba99d989c7699cd9",
     "locked": true,
     "schema_version": 3,
     "solution": false
    }
   },
   "source": [
    "As a little warm-up, **implement now the same function (summing up all integers from 0 to 10) as a `while` loop**. For that you need to replace the lines `# YOUR CODE HERE` and `raise NotImplementedError()` with your own code. ***[1p]***  "
   ]
  },
  {
   "cell_type": "code",
   "execution_count": 9,
   "metadata": {
    "deletable": false,
    "nbgrader": {
     "cell_type": "code",
     "checksum": "c82aba2f777ddc3347afc6bcd5c64ceb",
     "grade": true,
     "grade_id": "while",
     "locked": false,
     "points": 1,
     "schema_version": 3,
     "solution": true
    }
   },
   "outputs": [],
   "source": [
    "total = 0\n",
    "# A while loop that adds up all integers from 0 to 10\n",
    "counter = 0\n",
    "while counter <= 10:\n",
    "    total += counter\n",
    "    counter += 1\n",
    "\n",
    "assert total == 55, 'The integers from 0 to 10 must add up to 55, not {}'.format(total)"
   ]
  },
  {
   "cell_type": "markdown",
   "metadata": {
    "deletable": false,
    "editable": false,
    "nbgrader": {
     "cell_type": "markdown",
     "checksum": "8fd87ab19c9079370adea3d827490493",
     "grade": false,
     "grade_id": "cell-0d2eb36e7d0b8365",
     "locked": true,
     "schema_version": 3,
     "solution": false
    }
   },
   "source": [
    "If we wanted a more generic version of this code that could sum up all integers from 0 to n, we could define a function:"
   ]
  },
  {
   "cell_type": "code",
   "execution_count": 10,
   "metadata": {},
   "outputs": [
    {
     "data": {
      "text/plain": [
       "55"
      ]
     },
     "execution_count": 10,
     "metadata": {},
     "output_type": "execute_result"
    }
   ],
   "source": [
    "def sum_of_zero_to_n(n):\n",
    "    total = 0\n",
    "    for i in range(0, n+1):\n",
    "        total += i\n",
    "    return total\n",
    "\n",
    "sum_of_zero_to_n(10)"
   ]
  },
  {
   "cell_type": "markdown",
   "metadata": {
    "deletable": false,
    "editable": false,
    "nbgrader": {
     "cell_type": "markdown",
     "checksum": "482980f8f0209b07364b29b105439ab6",
     "grade": false,
     "grade_id": "cell-6e88238ca367fa31",
     "locked": true,
     "schema_version": 3,
     "solution": false
    }
   },
   "source": [
    "We will now turn to problems more specific to this course. For more general tutorials on programming in Python follow those links:\n",
    "* [Python.org's own tutorial](https://docs.python.org/3/tutorial/index.html)\n",
    "* [Wikipedia's great overview of Python's syntax and semantics](https://en.wikipedia.org/wiki/Python_syntax_and_semantics) \n",
    "* [learnpython.org](https://www.learnpython.org/)\n",
    "* [Google's Python class](https://developers.google.com/edu/python/) \n",
    "* [Python.org's own overview of learning resources](https://wiki.python.org/moin/BeginnersGuide/Programmers) \n",
    "\n",
    "There are two main versions of Python out there: Python2 and Python3. Many tutorials (e.g. Google's video tutorials) still use Python2, but we will use Python3, since that is the future.\n",
    "\n",
    "If you are new to Python, we would recommend [learnpython.org](https://www.learnpython.org/). It uses Python3, and comes with a web interpreter. You will only require knowledge of basic Python features and fractions of its standard library. Our recommendation is therefore to focus on:\n",
    "\n",
    "* **The Basics** section on learnpython.org (including **Classes and Objects** - we will use them extensively)\n",
    "* **Sets** from the Advanced Tutorials on learnpython.org\n",
    "* **Multiple Function Arguments** from the Advanced Tutorials on learnpython.org\n",
    "* **List Comprehensions** from the Advanced Tutorials on learnpython.org\n",
    "\n",
    "Irregardless whether you decided to complete an other tutorial or not, the following two resources are always helpful to consult whenever you are stuck:\n",
    "\n",
    "* [Python docs](https://docs.python.org/3/)\n",
    "* [Google](https://www.google.com)"
   ]
  },
  {
   "cell_type": "markdown",
   "metadata": {
    "deletable": false,
    "editable": false,
    "nbgrader": {
     "cell_type": "markdown",
     "checksum": "90a3eee6168866bce4883b363c59cd75",
     "grade": false,
     "grade_id": "cell-44f97208b1f64bab",
     "locked": true,
     "schema_version": 3,
     "solution": false
    }
   },
   "source": [
    "- - -"
   ]
  },
  {
   "cell_type": "markdown",
   "metadata": {
    "deletable": false,
    "editable": false,
    "nbgrader": {
     "cell_type": "markdown",
     "checksum": "c1ef887da99b122a047c20c4976a4399",
     "grade": false,
     "grade_id": "cell-7261b240a0246c9a",
     "locked": true,
     "schema_version": 3,
     "solution": false
    }
   },
   "source": [
    "# Task 1\n",
    "\n",
    "## Task 1.1 - Syntax Parsing\n",
    "\n",
    "Since many of you have learned to program in MATLAB in your previous studies, we will now demonstrate that the two languages are not too different. So, if you think *\"Oh, I knew how to do that in MATLAB!\"* at any point, solving the same problem in Python will be most likely just a matter of parsing the MATLAB syntax to Python's.\n",
    "\n",
    "The below code is a recursive implementation of the sum_of_zero_to_n function written in MATLAB. A recursive function is a function that calls itself. For that reason, a recursive function consists of at least two elements:\n",
    "* a stopping condition;\n",
    "* and a call to itself.\n",
    "\n",
    "Your task is to **change the code into valid Python code**, such that the cell is executable and passes the test cell below. ***[1p]***"
   ]
  },
  {
   "cell_type": "code",
   "execution_count": 11,
   "metadata": {
    "deletable": false,
    "nbgrader": {
     "cell_type": "code",
     "checksum": "ea985bd4e1cee9c48f4642e0baa395a5",
     "grade": false,
     "grade_id": "parse_syntax",
     "locked": false,
     "schema_version": 3,
     "solution": true
    }
   },
   "outputs": [],
   "source": [
    "### MATLAB Code of the function ###\n",
    "\n",
    "# function total = sum_of_n_to_zero(n)\n",
    "#     if n == 1\n",
    "#         total = n;\n",
    "#     else\n",
    "#         total = n + sum_of_n_to_zero(n-1);\n",
    "#     end\n",
    "# end\n",
    "\n",
    "### MATLAB Code of the function ###\n",
    "# YOUR CODE HERE\n",
    "\n",
    "def sum_of_n_to_zero(n):\n",
    "    if n == 1:\n",
    "        return n\n",
    "    else:\n",
    "        return n + sum_of_n_to_zero(n-1)\n"
   ]
  },
  {
   "cell_type": "code",
   "execution_count": 12,
   "metadata": {
    "deletable": false,
    "editable": false,
    "nbgrader": {
     "cell_type": "code",
     "checksum": "e3cd18694410b7121cc42ecea6784678",
     "grade": true,
     "grade_id": "parse_syntax_test",
     "locked": true,
     "points": 1,
     "schema_version": 3,
     "solution": false
    }
   },
   "outputs": [],
   "source": [
    "# This is a test cell\n",
    "assert sum_of_n_to_zero(10) == 55, 'The integers from 0 to 10 must add up to 55'\n",
    "assert sum_of_n_to_zero(100) == 5050, 'The integers from 0 to 100 must add up to 5050'\n",
    "assert sum_of_n_to_zero(1000) == 500500, 'The integers from 0 to 1000 must add up to 500500'"
   ]
  },
  {
   "cell_type": "markdown",
   "metadata": {
    "deletable": false,
    "editable": false,
    "nbgrader": {
     "cell_type": "markdown",
     "checksum": "2208cb334dd81fea5dd5559e69fb1a5c",
     "grade": false,
     "grade_id": "cell-dd1dd1f27ba2816a",
     "locked": true,
     "schema_version": 3,
     "solution": false
    }
   },
   "source": [
    "## Task 1.2 - Debugging\n",
    "\n",
    "In this task, we tried to capture some common problems that students had in previous years when starting on the assignments. Your task will be to debug an erroneous function that exhibits some of those common problems.\n",
    "\n",
    "The code below defines the transitions of automata. Transitions are implemented as [named tuples](https://docs.python.org/3/library/collections.html?highlight=collections#collections.namedtuple)."
   ]
  },
  {
   "cell_type": "code",
   "execution_count": 13,
   "metadata": {
    "deletable": false,
    "editable": false,
    "nbgrader": {
     "cell_type": "code",
     "checksum": "4d6c693dfb7c0cde9dad06fb7be14039",
     "grade": false,
     "grade_id": "cell-25a857072bb2da8d",
     "locked": true,
     "schema_version": 3,
     "solution": false
    }
   },
   "outputs": [
    {
     "name": "stdout",
     "output_type": "stream",
     "text": [
      "Transition(source='p1', event='a', target='p2')\n"
     ]
    }
   ],
   "source": [
    "from collections import namedtuple\n",
    "\n",
    "Transition = namedtuple(typename='Transition', field_names=['source', 'event', 'target'])\n",
    "\n",
    "t = Transition('p1', 'a', 'p2')\n",
    "print(t)"
   ]
  },
  {
   "cell_type": "markdown",
   "metadata": {
    "deletable": false,
    "editable": false,
    "nbgrader": {
     "cell_type": "markdown",
     "checksum": "ad8e299549ab3f458a2b02018a1752e5",
     "grade": false,
     "grade_id": "cell-2dc0dd42e10b8ac3",
     "locked": true,
     "schema_version": 3,
     "solution": false
    }
   },
   "source": [
    "Now, we would like to write a function that takes a [set](https://docs.python.org/3/library/stdtypes.html#set) of Transition and returns all the source states, events or target states in that [set](https://docs.python.org/3/library/stdtypes.html#set). The below `erroneous_extract_elems_from_trans` is an attempt to do that, but there are at least 5 errors in that code. **Implement the corrected version in `extract_elems_from_trans`**. ***[1p]***"
   ]
  },
  {
   "cell_type": "code",
   "execution_count": 14,
   "metadata": {
    "deletable": false,
    "nbgrader": {
     "cell_type": "code",
     "checksum": "05e3da3f0b22805caed01858acd5a429",
     "grade": false,
     "grade_id": "debug",
     "locked": false,
     "schema_version": 3,
     "solution": true
    }
   },
   "outputs": [],
   "source": [
    "# def erroneous_extract_elems_from_trans(trans, field):\n",
    "#     \"\"\" \n",
    "#     Returns a new set with just the elements of a field of all transitions. \n",
    "#     E.g. field='source' for all source states \n",
    "#     or field='event' or field='target'\n",
    "#     \"\"\"\n",
    "#     elems = {}\n",
    "#     for i in range(1, len(trans)):\n",
    "#         transition = trans[i]\n",
    "#         if field is 'source':\n",
    "#             elems.add(transition[1])\n",
    "#         elif field == 'events':\n",
    "#             elems.add(transition[2])\n",
    "#         else:\n",
    "#             elems.add(transition.target)\n",
    "\n",
    "def extract_elems_from_trans(trans, field):\n",
    "    \"\"\" \n",
    "    Returns a new set with just the elements of a field of all transitions. \n",
    "    E.g. field='source' for all source states \n",
    "    or field='event' or field='target'\n",
    "    \"\"\"\n",
    "    elems = set()\n",
    "    translist = list(trans)\n",
    "    for i in range(len(translist)):\n",
    "        transition = translist[i]\n",
    "        if field == 'source':\n",
    "            elems.add(transition[0])\n",
    "        elif field == 'event':\n",
    "            elems.add(transition[1])\n",
    "        elif field == 'target':\n",
    "            elems.add(transition[2])\n",
    "    return elems"
   ]
  },
  {
   "cell_type": "markdown",
   "metadata": {
    "deletable": false,
    "editable": false,
    "nbgrader": {
     "cell_type": "markdown",
     "checksum": "c3cc656b0c49a9012feeb43992130c7e",
     "grade": false,
     "grade_id": "cell-033756274b31a611",
     "locked": true,
     "schema_version": 3,
     "solution": false
    }
   },
   "source": [
    "The cell below is a test cell as you have seen it before. The assert statements throw an error if the given condition is false. We use those assertions to check if a function behaves as we would expect by providing some test inputs and comparing the function value to the expected output. We provide you with a set of test cases for most tasks so you can check your progress. **We often have additional edge cases, however, that we run your code on after you have submitted the assignment**. That means that even if you pass all the test cases given in this assignment, your code might still fail on those *hidden* test cases. **Part of your job is thus to ensure that your code works correctly for all inputs by defining your own test cases**."
   ]
  },
  {
   "cell_type": "code",
   "execution_count": 15,
   "metadata": {},
   "outputs": [],
   "source": [
    "# Space for your own tests"
   ]
  },
  {
   "cell_type": "code",
   "execution_count": 16,
   "metadata": {
    "deletable": false,
    "editable": false,
    "nbgrader": {
     "cell_type": "code",
     "checksum": "721b27afabf578034103a1166c1dca93",
     "grade": true,
     "grade_id": "debug_test",
     "locked": true,
     "points": 1,
     "schema_version": 3,
     "solution": false
    }
   },
   "outputs": [],
   "source": [
    "assert extract_elems_from_trans(set(), 'source') == set(), 'Empty transition set should return an empty set'\n",
    "\n",
    "trans = {Transition('p1', 'a', 'p2'),\n",
    "         Transition('p2', 'b', 'p3')}\n",
    "\n",
    "sources = extract_elems_from_trans(trans, 'source')\n",
    "assert sources == {'p1', 'p2'}, 'Got {} instead'.format(sources)\n",
    "\n",
    "events = extract_elems_from_trans(trans, 'event')\n",
    "assert events == {'a', 'b'}, 'Got {} instead'.format(events)\n",
    "\n",
    "targets = extract_elems_from_trans(trans, 'target')\n",
    "assert targets == {'p2', 'p3'}, 'Got {} instead'.format(targets)"
   ]
  },
  {
   "cell_type": "markdown",
   "metadata": {
    "deletable": false,
    "editable": false,
    "nbgrader": {
     "cell_type": "markdown",
     "checksum": "fc0155a09b7912627289b88197c4f2ef",
     "grade": false,
     "grade_id": "cell-96f66d4916afee6f",
     "locked": true,
     "schema_version": 3,
     "solution": false
    }
   },
   "source": [
    "## Task 1.3 - Test-driven Development\n",
    "\n",
    "A common practice in software development is to first specify how a function is supposed to behave and only then implement it. That way you build a suite of test cases that are independent of the implementation. When implementing the function in code, you then know that your implementation is correct once it passes all tests. This is known as [test-driven development](https://en.wikipedia.org/wiki/Test-driven_development)(TDD). In essence:\n",
    "* Add a test\n",
    "* Run all tests and see if the new test fails\n",
    "* Write the code\n",
    "* Run tests\n",
    "* Clean-up your code\n",
    "* Repeat\n",
    "\n",
    "In this task, you will **implement a function that filters a set of transitions to contain only transitions from given source states** ***[1p]***. An example is given in the test cell below. There will be hidden tests on this task, so we expect you to **practice some TDD and define your own test cases**, before writing the code of the function ***[2p]***.\n",
    "\n",
    "* ***Hint***: A good approach to writing test cases is to think about:\n",
    "    * edge cases, e.g. very small inputs, very large inputs;\n",
    "    * switch cases, if applicable e.g. inputs that might cause different code within the function to execute.\n",
    "    * \"random\" inputs, i.e. inputs you wouldn't consider normally as sensible  \n",
    "* If you haven't read the [documentation of sets](https://docs.python.org/3/library/stdtypes.html#set) yet, this would be a good moment to take a look."
   ]
  },
  {
   "cell_type": "code",
   "execution_count": 17,
   "metadata": {
    "deletable": false,
    "nbgrader": {
     "cell_type": "code",
     "checksum": "3777a5d949b9841f919c8a86265617be",
     "grade": false,
     "grade_id": "filter",
     "locked": false,
     "schema_version": 3,
     "solution": true
    }
   },
   "outputs": [],
   "source": [
    "def filter_trans_by_source(trans, states_to_keep):\n",
    "    \"\"\"Returns a new set containing all transitions where the source is in states_to_keep\"\"\"\n",
    "\n",
    "    output = set()\n",
    "    for i in trans:\n",
    "        print(i)\n",
    "        if i.source in states_to_keep:\n",
    "            output.add(i)\n",
    "    return output"
   ]
  },
  {
   "cell_type": "markdown",
   "metadata": {
    "deletable": false,
    "editable": false,
    "nbgrader": {
     "cell_type": "markdown",
     "checksum": "60463f84aedcd9edc605c27e4164a9f1",
     "grade": false,
     "grade_id": "cell-5ee564caa8d7c3fd",
     "locked": true,
     "schema_version": 3,
     "solution": false
    }
   },
   "source": [
    "***Your test cases (at least 5):***"
   ]
  },
  {
   "cell_type": "code",
   "execution_count": 18,
   "metadata": {
    "deletable": false,
    "nbgrader": {
     "cell_type": "code",
     "checksum": "be32336c61248a2387cedf18df4b91b7",
     "grade": true,
     "grade_id": "filter_tdd",
     "locked": false,
     "points": 2,
     "schema_version": 3,
     "solution": true
    }
   },
   "outputs": [
    {
     "name": "stdout",
     "output_type": "stream",
     "text": [
      "Transition(source='p2', event='p1', target='p1')\n",
      "Transition(source='p1', event='a', target='p4')\n",
      "Transition(source='p1', event='c', target='p4')\n",
      "Transition(source='p1', event='b', target='p4')\n",
      "Transition(source='p1', event='a', target='p4')\n",
      "Transition(source='p1', event='c', target='p4')\n",
      "Transition(source='p1', event='b', target='p4')\n",
      "Transition(source='p1', event='a', target='p4')\n"
     ]
    }
   ],
   "source": [
    "trans = set()\n",
    "output = filter_trans_by_source(trans, {'p1'})\n",
    "assert output == set(), 'Got {} instead'.format(output)\n",
    "\n",
    "trans = {Transition('p2', 'p1', 'p1'),\n",
    "         Transition('p2', 'p1', 'p1'),\n",
    "         Transition('p2', 'p1', 'p1')}\n",
    "output = filter_trans_by_source(trans, {'p1'})\n",
    "assert output == set(), 'Got {} instead'.format(output)\n",
    "\n",
    "trans = {Transition('p1', 'a', 'p4'),\n",
    "         Transition('p1', 'b', 'p4'),\n",
    "         Transition('p1', 'c', 'p4')}\n",
    "\n",
    "output = filter_trans_by_source(trans, {'p1'})\n",
    "assert output == {Transition('p1', 'a', 'p4'), Transition('p1', 'b', 'p4'), Transition('p1', 'c', 'p4')} , 'Got {} instead'.format(output)\n",
    "\n",
    "trans = {Transition('p1', 'a', 'p4'),\n",
    "         Transition('p1', 'b', 'p4'),\n",
    "         Transition('p1', 'b', 'p4'),\n",
    "         Transition('p1', 'b', 'p4'),\n",
    "         Transition('p1', 'b', 'p4'),\n",
    "         Transition('p1', 'b', 'p4'),\n",
    "         Transition('p1', 'b', 'p4'),\n",
    "         Transition('p1', 'b', 'p4'),\n",
    "         Transition('p1', 'b', 'p4'),\n",
    "         Transition('p1', 'b', 'p4'),\n",
    "         Transition('p1', 'b', 'p4'),\n",
    "         Transition('p1', 'b', 'p4'),\n",
    "         Transition('p1', 'c', 'p4')}\n",
    "output = filter_trans_by_source(trans, {'p1'})\n",
    "assert output == {Transition('p1', 'a', 'p4'), Transition('p1', 'b', 'p4'), Transition('p1', 'b', 'p4'), Transition('p1', 'b', 'p4'), Transition('p1', 'b', 'p4'), Transition('p1', 'b', 'p4'), Transition('p1', 'b', 'p4'), Transition('p1', 'b', 'p4'), Transition('p1', 'b', 'p4'), Transition('p1', 'b', 'p4'), Transition('p1', 'b', 'p4'), Transition('p1', 'b', 'p4'), Transition('p1', 'c', 'p4')}, 'Got {} instead'.format(output)\n",
    "\n",
    "trans = {Transition('p1', 'a', 'p4')}\n",
    "output = filter_trans_by_source(trans, {'p1'})\n",
    "assert output == {Transition('p1', 'a', 'p4')}, 'Got {} instead'.format(output)"
   ]
  },
  {
   "cell_type": "markdown",
   "metadata": {
    "deletable": false,
    "editable": false,
    "nbgrader": {
     "cell_type": "markdown",
     "checksum": "b625f0f17c7056da9f7ce5c8e4c9a7c0",
     "grade": false,
     "grade_id": "cell-267c7ae7fbb025ed",
     "locked": true,
     "schema_version": 3,
     "solution": false
    }
   },
   "source": [
    "***Our test cases:***"
   ]
  },
  {
   "cell_type": "code",
   "execution_count": 19,
   "metadata": {
    "deletable": false,
    "editable": false,
    "nbgrader": {
     "cell_type": "code",
     "checksum": "ab7fb4f38239a91033a26ec0cce5425e",
     "grade": true,
     "grade_id": "filter_test",
     "locked": true,
     "points": 1,
     "schema_version": 3,
     "solution": false
    }
   },
   "outputs": [
    {
     "name": "stdout",
     "output_type": "stream",
     "text": [
      "Transition(source='p1', event='a', target='p2')\n",
      "Transition(source='p2', event='b', target='p3')\n",
      "Transition(source='p1', event='b', target='p3')\n",
      "Transition(source='p1', event='a', target='p2')\n",
      "Transition(source='p2', event='b', target='p3')\n",
      "Transition(source='p1', event='b', target='p3')\n"
     ]
    }
   ],
   "source": [
    "trans = {Transition('p1', 'a', 'p2'),\n",
    "         Transition('p2', 'b', 'p3'),\n",
    "         Transition('p1', 'b', 'p3')}\n",
    "\n",
    "transitions = filter_trans_by_source(trans, {'p1'})\n",
    "assert transitions == {Transition('p1', 'a', 'p2'), Transition('p1', 'b', 'p3')}, 'Got {} instead'.format(transitions)\n",
    "\n",
    "transitions = filter_trans_by_source(trans, {'p2'})\n",
    "assert transitions == {Transition('p2', 'b', 'p3')}, 'Got {} instead'.format(transitions)"
   ]
  },
  {
   "cell_type": "markdown",
   "metadata": {
    "deletable": false,
    "editable": false,
    "nbgrader": {
     "cell_type": "markdown",
     "checksum": "fa31943f4e0f73d8307cd57a99e61f09",
     "grade": false,
     "grade_id": "cell-a4fc885df1a2eb15",
     "locked": true,
     "schema_version": 3,
     "solution": false
    }
   },
   "source": [
    "- - -"
   ]
  },
  {
   "cell_type": "markdown",
   "metadata": {
    "deletable": false,
    "editable": false,
    "nbgrader": {
     "cell_type": "markdown",
     "checksum": "1796f806c1d648ca08059ac272d72d3a",
     "grade": false,
     "grade_id": "cell-bd0cf70d10622a53",
     "locked": true,
     "schema_version": 3,
     "solution": false
    }
   },
   "source": [
    "# Task 2 - Reachability v.0\n",
    "\n",
    "As the last task of this assignment, you will implement the reachability function `reach`. Informally, in our context, reachability refers to the ability to get from one set of states to another set of states by following the automaton's transitions (for a more formal definition refer to e.g. p. 61 of the lecture notes). For instance, we could compute all states the system could possibly be in, if starting from its initial state and transiting on any transition arbitrarily often.  \n",
    "\n",
    "The code below defines the automaton [class](https://en.wikipedia.org/wiki/Object-oriented_programming#Objects_and_classes). You do not need to change anything here, but make sure you fully understand the code. We will make extensive use of [object-oriented programming](https://en.wikipedia.org/wiki/Object-oriented_programming) throughout the assignment. If you are not too familiar with this programming paradigm, check [learnpython.org](https://www.learnpython.org/en/Classes_and_Objects) and search for an enlightening introduction on YouTube."
   ]
  },
  {
   "cell_type": "code",
   "execution_count": 20,
   "metadata": {
    "deletable": false,
    "editable": false,
    "nbgrader": {
     "cell_type": "code",
     "checksum": "d00b3296b1f71d407e1a2cc9b3c039c6",
     "grade": false,
     "grade_id": "def_automaton",
     "locked": true,
     "schema_version": 3,
     "solution": false
    }
   },
   "outputs": [],
   "source": [
    "class Automaton(object):\n",
    "    def __init__(self, states, init, events, trans, marked=None, forbidden=None):\n",
    "        \"\"\"\n",
    "        This is the constructor of the automaton. \n",
    "\n",
    "        At creation, the automaton gets the following attributes assigned:\n",
    "        :param states: A set of states\n",
    "        :param init: The initial state\n",
    "        :param events: A set of events\n",
    "        :param trans: A set of transitions\n",
    "        :param marked: (Optional) A set of marked states\n",
    "        :param forbidden: (Optional) A set of forbidden states\n",
    "        \"\"\"\n",
    "        self.states = states\n",
    "        self.init = init\n",
    "        self.events = events\n",
    "        self.trans = trans\n",
    "        self.marked = marked if marked else set()\n",
    "        self.forbidden = forbidden if forbidden else set()\n",
    "\n",
    "    def __str__(self):\n",
    "        return 'states: \\n\\t{}\\n' \\\n",
    "               'init: \\n\\t{}\\n' \\\n",
    "               'events: \\n\\t{}\\n' \\\n",
    "               'transitions: \\n\\t{}\\n' \\\n",
    "               'marked: \\n\\t{}\\n' \\\n",
    "               'forbidden: \\n\\t{}\\n'.format(\n",
    "                   self.states, self.init, self.events, \n",
    "                   '\\n\\t'.join([str(t) for t in self.trans]),\n",
    "                   self.marked, self.forbidden)"
   ]
  },
  {
   "cell_type": "code",
   "execution_count": 21,
   "metadata": {
    "deletable": false,
    "editable": false,
    "nbgrader": {
     "cell_type": "code",
     "checksum": "1343270b08e12bb38e77cf9c18bee18b",
     "grade": false,
     "grade_id": "cell-8e20f4f7c63b525d",
     "locked": true,
     "schema_version": 3,
     "solution": false
    }
   },
   "outputs": [
    {
     "name": "stdout",
     "output_type": "stream",
     "text": [
      "states: \n",
      "\t{'p5', 'p4', 'p6', 'p2', 'p3', 'p1'}\n",
      "init: \n",
      "\tp1\n",
      "events: \n",
      "\t{'b', 'a', 'c'}\n",
      "transitions: \n",
      "\tTransition(source='p1', event='a', target='p2')\n",
      "\tTransition(source='p5', event='b', target='p4')\n",
      "\tTransition(source='p3', event='a', target='p4')\n",
      "\tTransition(source='p6', event='b', target='p3')\n",
      "\tTransition(source='p2', event='a', target='p2')\n",
      "\tTransition(source='p5', event='a', target='p4')\n",
      "\tTransition(source='p2', event='b', target='p4')\n",
      "\tTransition(source='p1', event='b', target='p3')\n",
      "\tTransition(source='p4', event='c', target='p5')\n",
      "marked: \n",
      "\t{'p5'}\n",
      "forbidden: \n",
      "\tset()\n",
      "\n"
     ]
    }
   ],
   "source": [
    "# Now we create an automaton with the following parameters\n",
    "\n",
    "states = {'p1', 'p2', 'p3', 'p4', 'p5', 'p6'}\n",
    "init = 'p1'\n",
    "events = {'a', 'b', 'c'}\n",
    "trans = {Transition('p1', 'a', 'p2'),\n",
    "         Transition('p1', 'b', 'p3'),\n",
    "         Transition('p2', 'b', 'p4'),\n",
    "         Transition('p3', 'a', 'p4'),\n",
    "         Transition('p4', 'c', 'p5'),\n",
    "         Transition('p2', 'a', 'p2'),\n",
    "         Transition('p5', 'a', 'p4'),\n",
    "         Transition('p5', 'b', 'p4'),\n",
    "         Transition('p6', 'b', 'p3')}\n",
    "marked = {'p5'}\n",
    "\n",
    "p1 = Automaton(states, init, events, trans, marked)\n",
    "print(p1)"
   ]
  },
  {
   "cell_type": "markdown",
   "metadata": {
    "deletable": false,
    "editable": false,
    "nbgrader": {
     "cell_type": "markdown",
     "checksum": "787fccacebdc1efa962fa7aad541d51d",
     "grade": false,
     "grade_id": "cell-e907ccba8f5a6831",
     "locked": true,
     "schema_version": 3,
     "solution": false
    }
   },
   "source": [
    "We can also visualize the automaton...\n",
    "\n",
    "(If you get an error here, you need to install graphviz. Instructions are on Canvas for that.)"
   ]
  },
  {
   "cell_type": "code",
   "execution_count": 22,
   "metadata": {
    "deletable": false,
    "editable": false,
    "nbgrader": {
     "cell_type": "code",
     "checksum": "ec61efd4df9eb7dae454c8300d314ceb",
     "grade": false,
     "grade_id": "cell-8fbada45ec6ef1ae",
     "locked": true,
     "schema_version": 3,
     "solution": false
    }
   },
   "outputs": [
    {
     "data": {
      "image/png": "[encoded data removed]",
      "text/plain": [
       "<IPython.core.display.Image object>"
      ]
     },
     "execution_count": 22,
     "metadata": {},
     "output_type": "execute_result"
    }
   ],
   "source": [
    "from util import plot_automaton\n",
    "\n",
    "# If this command is the last line in the cell, you can see the figure here!\n",
    "# (Otherwise it just appears as a file in the working directory)\n",
    "plot_automaton(automaton=p1, file_name_no_extension='P1') "
   ]
  },
  {
   "cell_type": "markdown",
   "metadata": {
    "deletable": false,
    "editable": false,
    "nbgrader": {
     "cell_type": "markdown",
     "checksum": "38823083457138dfee856a7f1f91a3a7",
     "grade": false,
     "grade_id": "cell-d08c0dece273f136",
     "locked": true,
     "schema_version": 3,
     "solution": false
    }
   },
   "source": [
    "Now that we have automata defined and have created an example automaton, we can start thinking about the `reach` function.\n",
    "\n",
    "A good start is to ask yourself: *\"Given a set of transitions, how could we compute all states that can be reached within one transition from a given set of start states? And then go on from there? And when will we be done with that?\"* \n",
    "    \n",
    "* **Describe in words how that would work**. You can enter your answer in the cell below. [Markdown](https://daringfireball.net/projects/markdown/syntax) and [LaTex's math environment](https://oeis.org/wiki/List_of_LaTeX_mathematical_symbols) (the \\$ \\$ environment) are supported. To edit the answer, double-click on \"YOUR ANSWER HERE\" in the cell below. ***[2p]***"
   ]
  },
  {
   "cell_type": "markdown",
   "metadata": {
    "deletable": false,
    "nbgrader": {
     "cell_type": "markdown",
     "checksum": "b026b4e0c103ca1444ea999ae906901c",
     "grade": true,
     "grade_id": "reach_in_words",
     "locked": false,
     "points": 2,
     "schema_version": 3,
     "solution": true
    }
   },
   "source": [
    "YOUR ANSWER HERE\n",
    "\n",
    "# Procedure\n",
    "\n",
    "## Main rules\n",
    "* Create to queues / arrays. One for visited nodes and one for processed nodes.\n",
    "* Put the init node in the visited nodes.\n",
    "* Each time we do the \"walk along\" on one of the visited nodes remove it from that queue and put it into the processed nodes.\n",
    "* The entire process ends when the visited nodes get empty. The processed nodes array shows you all reachable nodes.\n",
    "\n",
    "## The \"walk along\"\n",
    "* walk along all possible transitions from your current node and add the nodes if they are not in the visited or processed array to the visited array.\n"
   ]
  },
  {
   "cell_type": "markdown",
   "metadata": {
    "deletable": false,
    "editable": false,
    "nbgrader": {
     "cell_type": "markdown",
     "checksum": "f35568943800bfafdf379be130904e07",
     "grade": false,
     "grade_id": "cell-6fe420e0f7676a95",
     "locked": true,
     "schema_version": 3,
     "solution": false
    }
   },
   "source": [
    "Implement now the `reach` function in code. ***[2p]*** \n",
    "* In your implementation, you might want to include the functions `extract_elems_from_trans` and `filter_trans_by_source` from above. "
   ]
  },
  {
   "cell_type": "code",
   "execution_count": 23,
   "metadata": {
    "deletable": false,
    "nbgrader": {
     "cell_type": "code",
     "checksum": "215171d932292e4b7e55a16fe96b2c6e",
     "grade": false,
     "grade_id": "simple_reach",
     "locked": false,
     "schema_version": 3,
     "solution": true
    }
   },
   "outputs": [],
   "source": [
    "def reach(trans, start_states):\n",
    "    \"\"\"\n",
    "    Returns the forward reachable states of a transition set\n",
    "    \n",
    "    :param trans: set of transitions\n",
    "    :param start_states: set of states\n",
    "    \"\"\"\n",
    "    visited = start_states\n",
    "    processed = set()\n",
    "    while True:\n",
    "        if len(visited) != 0:\n",
    "            node = visited.pop()\n",
    "        else:\n",
    "            return processed\n",
    "        processed.add(node)\n",
    "        output = filter_trans_by_source(trans, {node})\n",
    "        for i in output:\n",
    "            if i.target not in processed and i.target not in visited:\n",
    "                visited.add(i.target)\n"
   ]
  },
  {
   "cell_type": "code",
   "execution_count": 24,
   "metadata": {},
   "outputs": [],
   "source": [
    "# Space for your own tests"
   ]
  },
  {
   "cell_type": "code",
   "execution_count": 25,
   "metadata": {
    "deletable": false,
    "editable": false,
    "nbgrader": {
     "cell_type": "code",
     "checksum": "95aef9d63cf67c7228f2f25f00f0c4cf",
     "grade": true,
     "grade_id": "simple_reach_test",
     "locked": true,
     "points": 2,
     "schema_version": 3,
     "solution": false
    }
   },
   "outputs": [
    {
     "name": "stdout",
     "output_type": "stream",
     "text": [
      "Transition(source='p1', event='a', target='p2')\n",
      "Transition(source='p5', event='b', target='p4')\n",
      "Transition(source='p3', event='a', target='p4')\n",
      "Transition(source='p6', event='b', target='p3')\n",
      "Transition(source='p2', event='a', target='p2')\n",
      "Transition(source='p5', event='a', target='p4')\n",
      "Transition(source='p2', event='b', target='p4')\n",
      "Transition(source='p1', event='b', target='p3')\n",
      "Transition(source='p4', event='c', target='p5')\n",
      "Transition(source='p1', event='a', target='p2')\n",
      "Transition(source='p5', event='b', target='p4')\n",
      "Transition(source='p3', event='a', target='p4')\n",
      "Transition(source='p6', event='b', target='p3')\n",
      "Transition(source='p2', event='a', target='p2')\n",
      "Transition(source='p5', event='a', target='p4')\n",
      "Transition(source='p2', event='b', target='p4')\n",
      "Transition(source='p1', event='b', target='p3')\n",
      "Transition(source='p4', event='c', target='p5')\n",
      "Transition(source='p1', event='a', target='p2')\n",
      "Transition(source='p5', event='b', target='p4')\n",
      "Transition(source='p3', event='a', target='p4')\n",
      "Transition(source='p6', event='b', target='p3')\n",
      "Transition(source='p2', event='a', target='p2')\n",
      "Transition(source='p5', event='a', target='p4')\n",
      "Transition(source='p2', event='b', target='p4')\n",
      "Transition(source='p1', event='b', target='p3')\n",
      "Transition(source='p4', event='c', target='p5')\n",
      "Transition(source='p1', event='a', target='p2')\n",
      "Transition(source='p5', event='b', target='p4')\n",
      "Transition(source='p3', event='a', target='p4')\n",
      "Transition(source='p6', event='b', target='p3')\n",
      "Transition(source='p2', event='a', target='p2')\n",
      "Transition(source='p5', event='a', target='p4')\n",
      "Transition(source='p2', event='b', target='p4')\n",
      "Transition(source='p1', event='b', target='p3')\n",
      "Transition(source='p4', event='c', target='p5')\n",
      "Transition(source='p1', event='a', target='p2')\n",
      "Transition(source='p5', event='b', target='p4')\n",
      "Transition(source='p3', event='a', target='p4')\n",
      "Transition(source='p6', event='b', target='p3')\n",
      "Transition(source='p2', event='a', target='p2')\n",
      "Transition(source='p5', event='a', target='p4')\n",
      "Transition(source='p2', event='b', target='p4')\n",
      "Transition(source='p1', event='b', target='p3')\n",
      "Transition(source='p4', event='c', target='p5')\n",
      "Transition(source='p1', event='a', target='p2')\n",
      "Transition(source='p5', event='b', target='p4')\n",
      "Transition(source='p3', event='a', target='p4')\n",
      "Transition(source='p6', event='b', target='p3')\n",
      "Transition(source='p2', event='a', target='p2')\n",
      "Transition(source='p5', event='a', target='p4')\n",
      "Transition(source='p2', event='b', target='p4')\n",
      "Transition(source='p1', event='b', target='p3')\n",
      "Transition(source='p4', event='c', target='p5')\n",
      "Transition(source='p1', event='a', target='p2')\n",
      "Transition(source='p5', event='b', target='p4')\n",
      "Transition(source='p3', event='a', target='p4')\n",
      "Transition(source='p6', event='b', target='p3')\n",
      "Transition(source='p2', event='a', target='p2')\n",
      "Transition(source='p5', event='a', target='p4')\n",
      "Transition(source='p2', event='b', target='p4')\n",
      "Transition(source='p1', event='b', target='p3')\n",
      "Transition(source='p4', event='c', target='p5')\n",
      "Transition(source='p1', event='a', target='p2')\n",
      "Transition(source='p5', event='b', target='p4')\n",
      "Transition(source='p3', event='a', target='p4')\n",
      "Transition(source='p6', event='b', target='p3')\n",
      "Transition(source='p2', event='a', target='p2')\n",
      "Transition(source='p5', event='a', target='p4')\n",
      "Transition(source='p2', event='b', target='p4')\n",
      "Transition(source='p1', event='b', target='p3')\n",
      "Transition(source='p4', event='c', target='p5')\n",
      "Transition(source='p1', event='a', target='p2')\n",
      "Transition(source='p5', event='b', target='p4')\n",
      "Transition(source='p3', event='a', target='p4')\n",
      "Transition(source='p6', event='b', target='p3')\n",
      "Transition(source='p2', event='a', target='p2')\n",
      "Transition(source='p5', event='a', target='p4')\n",
      "Transition(source='p2', event='b', target='p4')\n",
      "Transition(source='p1', event='b', target='p3')\n",
      "Transition(source='p4', event='c', target='p5')\n",
      "Transition(source='p1', event='a', target='p2')\n",
      "Transition(source='p5', event='b', target='p4')\n",
      "Transition(source='p3', event='a', target='p4')\n",
      "Transition(source='p6', event='b', target='p3')\n",
      "Transition(source='p2', event='a', target='p2')\n",
      "Transition(source='p5', event='a', target='p4')\n",
      "Transition(source='p2', event='b', target='p4')\n",
      "Transition(source='p1', event='b', target='p3')\n",
      "Transition(source='p4', event='c', target='p5')\n",
      "Transition(source='p1', event='a', target='p2')\n",
      "Transition(source='p5', event='b', target='p4')\n",
      "Transition(source='p3', event='a', target='p4')\n",
      "Transition(source='p6', event='b', target='p3')\n",
      "Transition(source='p2', event='a', target='p2')\n",
      "Transition(source='p5', event='a', target='p4')\n",
      "Transition(source='p2', event='b', target='p4')\n",
      "Transition(source='p1', event='b', target='p3')\n",
      "Transition(source='p4', event='c', target='p5')\n",
      "Transition(source='p1', event='a', target='p2')\n",
      "Transition(source='p5', event='b', target='p4')\n",
      "Transition(source='p3', event='a', target='p4')\n",
      "Transition(source='p6', event='b', target='p3')\n",
      "Transition(source='p2', event='a', target='p2')\n",
      "Transition(source='p5', event='a', target='p4')\n",
      "Transition(source='p2', event='b', target='p4')\n",
      "Transition(source='p1', event='b', target='p3')\n",
      "Transition(source='p4', event='c', target='p5')\n",
      "Transition(source='p1', event='a', target='p2')\n",
      "Transition(source='p5', event='b', target='p4')\n",
      "Transition(source='p3', event='a', target='p4')\n",
      "Transition(source='p6', event='b', target='p3')\n",
      "Transition(source='p2', event='a', target='p2')\n",
      "Transition(source='p5', event='a', target='p4')\n",
      "Transition(source='p2', event='b', target='p4')\n",
      "Transition(source='p1', event='b', target='p3')\n",
      "Transition(source='p4', event='c', target='p5')\n",
      "Transition(source='p1', event='a', target='p2')\n",
      "Transition(source='p5', event='b', target='p4')\n",
      "Transition(source='p3', event='a', target='p4')\n",
      "Transition(source='p6', event='b', target='p3')\n",
      "Transition(source='p2', event='a', target='p2')\n",
      "Transition(source='p5', event='a', target='p4')\n",
      "Transition(source='p2', event='b', target='p4')\n",
      "Transition(source='p1', event='b', target='p3')\n",
      "Transition(source='p4', event='c', target='p5')\n",
      "Transition(source='p1', event='a', target='p2')\n",
      "Transition(source='p5', event='b', target='p4')\n",
      "Transition(source='p3', event='a', target='p4')\n",
      "Transition(source='p6', event='b', target='p3')\n",
      "Transition(source='p2', event='a', target='p2')\n",
      "Transition(source='p5', event='a', target='p4')\n",
      "Transition(source='p2', event='b', target='p4')\n",
      "Transition(source='p1', event='b', target='p3')\n",
      "Transition(source='p4', event='c', target='p5')\n",
      "Transition(source='p1', event='a', target='p2')\n",
      "Transition(source='p5', event='b', target='p4')\n",
      "Transition(source='p3', event='a', target='p4')\n",
      "Transition(source='p6', event='b', target='p3')\n",
      "Transition(source='p2', event='a', target='p2')\n",
      "Transition(source='p5', event='a', target='p4')\n",
      "Transition(source='p2', event='b', target='p4')\n",
      "Transition(source='p1', event='b', target='p3')\n",
      "Transition(source='p4', event='c', target='p5')\n",
      "Transition(source='p1', event='a', target='p2')\n",
      "Transition(source='p5', event='b', target='p4')\n",
      "Transition(source='p3', event='a', target='p4')\n",
      "Transition(source='p6', event='b', target='p3')\n",
      "Transition(source='p2', event='a', target='p2')\n",
      "Transition(source='p5', event='a', target='p4')\n",
      "Transition(source='p2', event='b', target='p4')\n",
      "Transition(source='p1', event='b', target='p3')\n",
      "Transition(source='p4', event='c', target='p5')\n"
     ]
    }
   ],
   "source": [
    "# from init\n",
    "reach_states = reach(p1.trans, {p1.init})\n",
    "assert reach_states == {'p1', 'p2', 'p3', 'p4', 'p5'}, 'Got {} instead'.format(reach_states)\n",
    "\n",
    "# from marked\n",
    "reach_states = reach(p1.trans, p1.marked)\n",
    "assert reach_states == {'p4', 'p5'}, 'Got {} instead'.format(reach_states)\n",
    "\n",
    "# from p6\n",
    "reach_states = reach(p1.trans, {'p6'})\n",
    "assert reach_states == {'p3', 'p4', 'p5', 'p6'}, 'Got {} instead'.format(reach_states)\n",
    "\n",
    "# reaching all\n",
    "reach_states = reach(p1.trans, {'p1', 'p6'})\n",
    "assert reach_states == p1.states, 'Got {} instead'.format(reach_states)"
   ]
  },
  {
   "cell_type": "markdown",
   "metadata": {
    "deletable": false,
    "editable": false,
    "nbgrader": {
     "cell_type": "markdown",
     "checksum": "be844c600b47aa730046674552826ea2",
     "grade": false,
     "grade_id": "cell-ca4413be58012d08",
     "locked": true,
     "schema_version": 3,
     "solution": false
    }
   },
   "source": [
    "- - -\n",
    "\n",
    "Good job! You have completed the Python introduction and have gotten a taste of the programming tasks in this course. If you feel confident in your Python skills, then: \n",
    "\n",
    "* Save the notebook\n",
    "* Upload the .ipynb file to Canvas\n",
    "* Relax a little \n",
    "\n",
    "Otherwise, we strongly recommend that you revisit the paragraph on Python learning resources at the end of the Preliminaries section and find yourself further tutorials for honing your skills. "
   ]
  }
 ],
 "metadata": {
  "kernelspec": {
   "display_name": "Python 3 (ipykernel)",
   "language": "python",
   "name": "python3"
  },
  "language_info": {
   "codemirror_mode": {
    "name": "ipython",
    "version": 3
   },
   "file_extension": ".py",
   "mimetype": "text/x-python",
   "name": "python",
   "nbconvert_exporter": "python",
   "pygments_lexer": "ipython3",
   "version": "3.12.4"
  },
  "latex_envs": {
   "LaTeX_envs_menu_present": true,
   "autoclose": false,
   "autocomplete": true,
   "bibliofile": "biblio.bib",
   "cite_by": "apalike",
   "current_citInitial": 1,
   "eqLabelWithNumbers": true,
   "eqNumInitial": 1,
   "hotkeys": {
    "equation": "Ctrl-E",
    "itemize": "Ctrl-I"
   },
   "labels_anchors": false,
   "latex_user_defs": false,
   "report_style_numbering": false,
   "user_envs_cfg": false
  }
 },
 "nbformat": 4,
 "nbformat_minor": 4
}
